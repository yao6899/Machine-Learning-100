＃參考解答

挑選 Google 提出的[語意分割模型 Deeplab V3+] (https://ai.googleblog.com/2018/03/semantic-image-segmentation-with.html)

此專案要解決的是影像與意分割的問題
使用 CNN 卷機神經網路，具有 Encoder 跟 Decoder 的架構，並加入了 Atrous convolution 來提升 receptive field。
在 PASCAL VOC 2012 及 City Space 的 Dataset 中都取得了 state of the art 的成績
