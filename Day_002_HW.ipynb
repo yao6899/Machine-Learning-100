{
  "nbformat": 4,
  "nbformat_minor": 0,
  "metadata": {
    "colab": {
      "name": "Day_002_HW.ipynb",
      "provenance": []
    },
    "kernelspec": {
      "name": "python3",
      "display_name": "Python 3"
    },
    "language_info": {
      "name": "python"
    }
  },
  "cells": [
    {
      "cell_type": "code",
      "metadata": {
        "id": "29hMhANz48UV"
      },
      "source": [
        "#作業問題：思考題_請找出一個你認為機器學習可以發光發熱的領域並闡述原因?"
      ],
      "execution_count": 1,
      "outputs": []
    },
    {
      "cell_type": "code",
      "metadata": {
        "id": "tItT1l34_z0T"
      },
      "source": [
        "# [教育產業]\n",
        "# (1)學生個人的學習拓譜。根據推薦演算法，每一位學生都能依據個人特質、專長學習到符合自我的相關課程並留下紀錄產生個人學習履歷。\n",
        "# (2)自動評分系統，像是作文這種評分，比較無一定標準，可以使用機器學習創建專家評分，達到評分成績較無爭議。\n",
        "# (3)AI時代來臨，擁有運算思維成為不可或缺能力，期待用AI來教AI。"
      ],
      "execution_count": 2,
      "outputs": []
    }
  ]
}